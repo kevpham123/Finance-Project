{
 "cells": [
  {
   "cell_type": "code",
   "execution_count": 13,
   "id": "09987f8c-e465-4850-9959-e386e81469f1",
   "metadata": {},
   "outputs": [],
   "source": [
    "import pandas as pd\n",
    "import numpy as np\n",
    "import sqlite3\n",
    "import statsmodels.formula.api as smf\n",
    "\n",
    "try: \n",
    "    import yfinance as yf\n",
    "except:\n",
    "    !pip install yfinance\n",
    "    import yfinance as yf\n",
    "\n",
    "#from regtabletotext import prettify_result"
   ]
  },
  {
   "cell_type": "code",
   "execution_count": 32,
   "id": "dd8c4312-af61-420d-9b13-3e5cd40f8a55",
   "metadata": {},
   "outputs": [
    {
     "name": "stdout",
     "output_type": "stream",
     "text": [
      "[*********************100%%**********************]  1 of 1 completed\n"
     ]
    }
   ],
   "source": [
    "prices = (yf.download(tickers=\"AAPL\", \n",
    "                      start=\"2000-01-01\", \n",
    "                      end=\"2022-12-31\")\n",
    "  .reset_index()\n",
    "  .assign(symbol = \"AAPL\")\n",
    "  .rename(columns = {\"Date\": \"date\", \n",
    "                     \"Open\": \"open\", \n",
    "                     \"High\": \"high\",\n",
    "                     \"Low\": \"low\",\n",
    "                     \"Close\": \"close\", \n",
    "                     \"Adj Close\": \"adjusted\", \n",
    "                     \"Volume\": \"volume\"\n",
    "                    })\n",
    ")"
   ]
  },
  {
   "cell_type": "code",
   "execution_count": 37,
   "id": "e1bceffe-8717-4389-a3ae-1578f09ab051",
   "metadata": {},
   "outputs": [
    {
     "data": {
      "text/html": [
       "<div>\n",
       "<style scoped>\n",
       "    .dataframe tbody tr th:only-of-type {\n",
       "        vertical-align: middle;\n",
       "    }\n",
       "\n",
       "    .dataframe tbody tr th {\n",
       "        vertical-align: top;\n",
       "    }\n",
       "\n",
       "    .dataframe thead th {\n",
       "        text-align: right;\n",
       "    }\n",
       "</style>\n",
       "<table border=\"1\" class=\"dataframe\">\n",
       "  <thead>\n",
       "    <tr style=\"text-align: right;\">\n",
       "      <th></th>\n",
       "      <th>date</th>\n",
       "      <th>open</th>\n",
       "      <th>high</th>\n",
       "      <th>low</th>\n",
       "      <th>close</th>\n",
       "      <th>adjusted</th>\n",
       "      <th>volume</th>\n",
       "      <th>symbol</th>\n",
       "    </tr>\n",
       "  </thead>\n",
       "  <tbody>\n",
       "    <tr>\n",
       "      <th>0</th>\n",
       "      <td>2000-01-03</td>\n",
       "      <td>0.936</td>\n",
       "      <td>1.004</td>\n",
       "      <td>0.908</td>\n",
       "      <td>0.999</td>\n",
       "      <td>0.847</td>\n",
       "      <td>535796800</td>\n",
       "      <td>AAPL</td>\n",
       "    </tr>\n",
       "    <tr>\n",
       "      <th>1</th>\n",
       "      <td>2000-01-04</td>\n",
       "      <td>0.967</td>\n",
       "      <td>0.988</td>\n",
       "      <td>0.903</td>\n",
       "      <td>0.915</td>\n",
       "      <td>0.776</td>\n",
       "      <td>512377600</td>\n",
       "      <td>AAPL</td>\n",
       "    </tr>\n",
       "    <tr>\n",
       "      <th>2</th>\n",
       "      <td>2000-01-05</td>\n",
       "      <td>0.926</td>\n",
       "      <td>0.987</td>\n",
       "      <td>0.920</td>\n",
       "      <td>0.929</td>\n",
       "      <td>0.787</td>\n",
       "      <td>778321600</td>\n",
       "      <td>AAPL</td>\n",
       "    </tr>\n",
       "    <tr>\n",
       "      <th>3</th>\n",
       "      <td>2000-01-06</td>\n",
       "      <td>0.948</td>\n",
       "      <td>0.955</td>\n",
       "      <td>0.848</td>\n",
       "      <td>0.848</td>\n",
       "      <td>0.719</td>\n",
       "      <td>767972800</td>\n",
       "      <td>AAPL</td>\n",
       "    </tr>\n",
       "    <tr>\n",
       "      <th>4</th>\n",
       "      <td>2000-01-07</td>\n",
       "      <td>0.862</td>\n",
       "      <td>0.902</td>\n",
       "      <td>0.853</td>\n",
       "      <td>0.888</td>\n",
       "      <td>0.753</td>\n",
       "      <td>460734400</td>\n",
       "      <td>AAPL</td>\n",
       "    </tr>\n",
       "  </tbody>\n",
       "</table>\n",
       "</div>"
      ],
      "text/plain": [
       "        date   open   high    low  close  adjusted     volume symbol\n",
       "0 2000-01-03  0.936  1.004  0.908  0.999     0.847  535796800   AAPL\n",
       "1 2000-01-04  0.967  0.988  0.903  0.915     0.776  512377600   AAPL\n",
       "2 2000-01-05  0.926  0.987  0.920  0.929     0.787  778321600   AAPL\n",
       "3 2000-01-06  0.948  0.955  0.848  0.848     0.719  767972800   AAPL\n",
       "4 2000-01-07  0.862  0.902  0.853  0.888     0.753  460734400   AAPL"
      ]
     },
     "execution_count": 37,
     "metadata": {},
     "output_type": "execute_result"
    }
   ],
   "source": [
    "prices.head().round(3)"
   ]
  },
  {
   "cell_type": "code",
   "execution_count": null,
   "id": "5615a5c7-d5f7-46d1-8ae8-c1bc2a2146c1",
   "metadata": {},
   "outputs": [],
   "source": []
  }
 ],
 "metadata": {
  "kernelspec": {
   "display_name": "Python 3 (ipykernel)",
   "language": "python",
   "name": "python3"
  },
  "language_info": {
   "codemirror_mode": {
    "name": "ipython",
    "version": 3
   },
   "file_extension": ".py",
   "mimetype": "text/x-python",
   "name": "python",
   "nbconvert_exporter": "python",
   "pygments_lexer": "ipython3",
   "version": "3.9.16"
  }
 },
 "nbformat": 4,
 "nbformat_minor": 5
}
