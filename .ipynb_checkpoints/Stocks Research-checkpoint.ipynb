{
 "cells": [
  {
   "cell_type": "code",
   "execution_count": 5,
   "id": "09987f8c-e465-4850-9959-e386e81469f1",
   "metadata": {},
   "outputs": [],
   "source": [
    "import pandas as pd\n",
    "import numpy as np\n",
    "import sqlite3\n",
    "import statsmodels.formula.api as smf\n",
    "\n",
    "#from regtabletotext import prettify_result"
   ]
  },
  {
   "cell_type": "code",
   "execution_count": 6,
   "id": "2b0c31ca-63d2-4927-ac30-c83f83269f82",
   "metadata": {},
   "outputs": [
    {
     "ename": "OperationalError",
     "evalue": "unable to open database file",
     "output_type": "error",
     "traceback": [
      "\u001b[1;31m---------------------------------------------------------------------------\u001b[0m",
      "\u001b[1;31mOperationalError\u001b[0m                          Traceback (most recent call last)",
      "Cell \u001b[1;32mIn[6], line 1\u001b[0m\n\u001b[1;32m----> 1\u001b[0m tidy_finance \u001b[38;5;241m=\u001b[39m \u001b[43msqlite3\u001b[49m\u001b[38;5;241;43m.\u001b[39;49m\u001b[43mconnect\u001b[49m\u001b[43m(\u001b[49m\n\u001b[0;32m      2\u001b[0m \u001b[43m  \u001b[49m\u001b[43mdatabase\u001b[49m\u001b[38;5;241;43m=\u001b[39;49m\u001b[38;5;124;43m\"\u001b[39;49m\u001b[38;5;124;43mdata/tidy_finance_python.sqlite\u001b[39;49m\u001b[38;5;124;43m\"\u001b[39;49m\n\u001b[0;32m      3\u001b[0m \u001b[43m)\u001b[49m\n\u001b[0;32m      5\u001b[0m crsp_monthly \u001b[38;5;241m=\u001b[39m (pd\u001b[38;5;241m.\u001b[39mread_sql_query(\n\u001b[0;32m      6\u001b[0m     sql\u001b[38;5;241m=\u001b[39m(\u001b[38;5;124m\"\u001b[39m\u001b[38;5;124mSELECT permno, gvkey, month, ret_excess, mktcap, \u001b[39m\u001b[38;5;124m\"\u001b[39m\n\u001b[0;32m      7\u001b[0m          \u001b[38;5;124m\"\u001b[39m\u001b[38;5;124mmktcap_lag, exchange FROM crsp_monthly\u001b[39m\u001b[38;5;124m\"\u001b[39m),\n\u001b[1;32m   (...)\u001b[0m\n\u001b[0;32m     10\u001b[0m   \u001b[38;5;241m.\u001b[39mdropna()\n\u001b[0;32m     11\u001b[0m )\n\u001b[0;32m     13\u001b[0m compustat \u001b[38;5;241m=\u001b[39m (pd\u001b[38;5;241m.\u001b[39mread_sql_query(\n\u001b[0;32m     14\u001b[0m     sql\u001b[38;5;241m=\u001b[39m\u001b[38;5;124m\"\u001b[39m\u001b[38;5;124mSELECT gvkey, datadate, be, op, inv FROM compustat\u001b[39m\u001b[38;5;124m\"\u001b[39m,\n\u001b[0;32m     15\u001b[0m     con\u001b[38;5;241m=\u001b[39mtidy_finance,\n\u001b[0;32m     16\u001b[0m     parse_dates\u001b[38;5;241m=\u001b[39m{\u001b[38;5;124m\"\u001b[39m\u001b[38;5;124mdatadate\u001b[39m\u001b[38;5;124m\"\u001b[39m})\n\u001b[0;32m     17\u001b[0m   \u001b[38;5;241m.\u001b[39mdropna()\n\u001b[0;32m     18\u001b[0m )\n",
      "\u001b[1;31mOperationalError\u001b[0m: unable to open database file"
     ]
    }
   ],
   "source": [
    "tidy_finance = sqlite3.connect(\n",
    "  database=\"data/tidy_finance_python.sqlite\"\n",
    ")\n",
    "\n",
    "crsp_monthly = (pd.read_sql_query(\n",
    "    sql=(\"SELECT permno, gvkey, month, ret_excess, mktcap, \"\n",
    "         \"mktcap_lag, exchange FROM crsp_monthly\"),\n",
    "    con=tidy_finance,\n",
    "    parse_dates={\"month\"})\n",
    "  .dropna()\n",
    ")\n",
    "\n",
    "compustat = (pd.read_sql_query(\n",
    "    sql=\"SELECT gvkey, datadate, be, op, inv FROM compustat\",\n",
    "    con=tidy_finance,\n",
    "    parse_dates={\"datadate\"})\n",
    "  .dropna()\n",
    ")\n",
    "\n",
    "factors_ff3_monthly = (pd.read_sql_query(\n",
    "    sql=\"SELECT month, smb, hml FROM factors_ff3_monthly\",\n",
    "    con=tidy_finance,\n",
    "    parse_dates={\"month\"})\n",
    "  .dropna()\n",
    ")\n",
    "\n",
    "factors_ff5_monthly = (pd.read_sql_query(\n",
    "    sql=(\"SELECT month, smb, hml, rmw, cma \"\n",
    "         \"FROM factors_ff5_monthly\"),\n",
    "    con=tidy_finance,\n",
    "    parse_dates={\"month\"})\n",
    "  .dropna()\n",
    ")"
   ]
  },
  {
   "cell_type": "code",
   "execution_count": null,
   "id": "dd8c4312-af61-420d-9b13-3e5cd40f8a55",
   "metadata": {},
   "outputs": [],
   "source": []
  }
 ],
 "metadata": {
  "kernelspec": {
   "display_name": "Python 3 (ipykernel)",
   "language": "python",
   "name": "python3"
  },
  "language_info": {
   "codemirror_mode": {
    "name": "ipython",
    "version": 3
   },
   "file_extension": ".py",
   "mimetype": "text/x-python",
   "name": "python",
   "nbconvert_exporter": "python",
   "pygments_lexer": "ipython3",
   "version": "3.9.16"
  }
 },
 "nbformat": 4,
 "nbformat_minor": 5
}
